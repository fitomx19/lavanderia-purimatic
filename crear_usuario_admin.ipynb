{
  "cells": [
    {
      "cell_type": "raw",
      "metadata": {
        "vscode": {
          "languageId": "raw"
        }
      },
      "source": [
        "# Crear Usuario Administrador - Lavandería Purimatic\n",
        "\n",
        "Este notebook te ayudará a crear el usuario administrador en tu base de datos MongoDB Atlas.\n",
        "\n",
        "## Requisitos\n",
        "- Tener configurado el archivo `.env` con las variables de entorno\n",
        "- Conexión a MongoDB Atlas funcionando\n",
        "- Librerías instaladas: `pymongo`, `python-dotenv`, `bcrypt`\n"
      ]
    },
    {
      "cell_type": "code",
      "execution_count": 10,
      "metadata": {},
      "outputs": [
        {
          "name": "stdout",
          "output_type": "stream",
          "text": [
            "✅ Librerías importadas correctamente\n",
            "✅ Variables de entorno cargadas\n",
            "✅ Función de hash configurada\n"
          ]
        }
      ],
      "source": [
        "# Importar librerías necesarias\n",
        "import os\n",
        "from pymongo import MongoClient\n",
        "from dotenv import load_dotenv\n",
        "from datetime import datetime\n",
        "from bson import ObjectId\n",
        "import json\n",
        "import bcrypt\n",
        "\n",
        "# Cargar variables de entorno\n",
        "load_dotenv()\n",
        "\n",
        "# Función para generar hash (igual que en la aplicación)\n",
        "def hash_password(password: str) -> str:\n",
        "    \"\"\"\n",
        "    Generar hash de contraseña usando bcrypt (igual que en auth_utils.py)\n",
        "    \"\"\"\n",
        "    return bcrypt.hashpw(password.encode('utf-8'), bcrypt.gensalt()).decode('utf-8')\n",
        "\n",
        "print(\"✅ Librerías importadas correctamente\")\n",
        "print(\"✅ Variables de entorno cargadas\")\n",
        "print(\"✅ Función de hash configurada\")\n"
      ]
    },
    {
      "cell_type": "code",
      "execution_count": 11,
      "metadata": {},
      "outputs": [
        {
          "name": "stdout",
          "output_type": "stream",
          "text": [
            "✅ URI de MongoDB encontrada\n",
            "URI: mongodb+srv://fitoxm********************ites=true&w=majority\n"
          ]
        }
      ],
      "source": [
        "# Configurar conexión a MongoDB\n",
        "MONGODB_URI = os.getenv('MONGODB_URI')\n",
        "\n",
        "if not MONGODB_URI:\n",
        "    print(\"❌ Error: No se encontró MONGODB_URI en las variables de entorno\")\n",
        "    print(\"Por favor, asegúrate de tener el archivo .env con la configuración correcta\")\n",
        "else:\n",
        "    print(\"✅ URI de MongoDB encontrada\")\n",
        "    # Mostrar URI enmascarada por seguridad\n",
        "    masked_uri = MONGODB_URI[:20] + \"*\" * 20 + MONGODB_URI[-20:] if len(MONGODB_URI) > 40 else \"*\" * len(MONGODB_URI)\n",
        "    print(f\"URI: {masked_uri}\")\n"
      ]
    },
    {
      "cell_type": "code",
      "execution_count": 12,
      "metadata": {},
      "outputs": [
        {
          "name": "stdout",
          "output_type": "stream",
          "text": [
            "✅ Conexión exitosa a MongoDB\n",
            "✅ Base de datos conectada: lavanderia_db\n",
            "✅ Colecciones disponibles: ['user_employees', 'user_clients', 'products', 'dryers', 'washers']\n"
          ]
        }
      ],
      "source": [
        "# Conectar a MongoDB\n",
        "if MONGODB_URI:\n",
        "    try:\n",
        "        client = MongoClient(MONGODB_URI)\n",
        "        \n",
        "        # Probar la conexión\n",
        "        client.admin.command('ping')\n",
        "        print(\"✅ Conexión exitosa a MongoDB\")\n",
        "        \n",
        "        # Obtener la base de datos\n",
        "        db_name = MONGODB_URI.split('/')[-1].split('?')[0]\n",
        "        db = client[db_name]\n",
        "        \n",
        "        print(f\"✅ Base de datos conectada: {db_name}\")\n",
        "        \n",
        "        # Mostrar colecciones existentes\n",
        "        collections = db.list_collection_names()\n",
        "        print(f\"✅ Colecciones disponibles: {collections}\")\n",
        "        \n",
        "    except Exception as e:\n",
        "        print(f\"❌ Error al conectar a MongoDB: {e}\")\n",
        "else:\n",
        "    print(\"❌ No se puede conectar: MONGODB_URI no está configurada\")\n"
      ]
    },
    {
      "cell_type": "code",
      "execution_count": 13,
      "metadata": {},
      "outputs": [
        {
          "name": "stdout",
          "output_type": "stream",
          "text": [
            "✅ No se encontró usuario administrador existente. Listo para crear.\n"
          ]
        }
      ],
      "source": [
        "# Verificar si ya existe el usuario administrador\n",
        "user_employees_collection = db['user_employees']\n",
        "\n",
        "existing_admin = user_employees_collection.find_one({\n",
        "    \"$or\": [\n",
        "        {\"username\": \"admin\"},\n",
        "        {\"email\": \"admin@purimatic.com\"}\n",
        "    ]\n",
        "})\n",
        "\n",
        "if existing_admin:\n",
        "    print(\"⚠️  Ya existe un usuario administrador en la base de datos:\")\n",
        "    print(f\"Username: {existing_admin.get('username')}\")\n",
        "    print(f\"Email: {existing_admin.get('email')}\")\n",
        "    print(f\"Role: {existing_admin.get('role')}\")\n",
        "    print(f\"Is Active: {existing_admin.get('is_active')}\")\n",
        "    print(\"\\n¿Deseas continuar y reemplazar este usuario? (Ejecuta la siguiente celda)\")\n",
        "else:\n",
        "    print(\"✅ No se encontró usuario administrador existente. Listo para crear.\")\n"
      ]
    },
    {
      "cell_type": "code",
      "execution_count": 14,
      "metadata": {},
      "outputs": [
        {
          "name": "stdout",
          "output_type": "stream",
          "text": [
            "✅ Datos del usuario administrador preparados:\n",
            "Username: admin\n",
            "Email: admin@purimatic.com\n",
            "Role: admin\n",
            "Store ID: store_001\n",
            "Password: AdminPurimatic2024\n",
            "Is Active: True\n",
            "Password Hash: $2b$12$BnNwJzy9QqgMgtdkyEUrIOh...\n",
            "\n",
            "⚠️  IMPORTANTE: Guarda esta contraseña en un lugar seguro: AdminPurimatic2024\n",
            "✅ Hash generado usando bcrypt (igual que la aplicación)\n"
          ]
        }
      ],
      "source": [
        "# Datos del usuario administrador\n",
        "plain_password = \"AdminPurimatic2024\"\n",
        "\n",
        "# Generar hash de contraseña usando el mismo método que la aplicación\n",
        "password_hash = hash_password(plain_password)\n",
        "\n",
        "admin_user_data = {\n",
        "    \"_id\": ObjectId(\"6866ced114f19bf5e0dd6bf5\"),\n",
        "    \"username\": \"admin\",\n",
        "    \"email\": \"admin@purimatic.com\",\n",
        "    \"password_hash\": password_hash,\n",
        "    \"role\": \"admin\",\n",
        "    \"store_id\": \"store_001\",\n",
        "    \"is_active\": True,\n",
        "    \"created_at\": datetime.fromisoformat(\"2025-07-03T00:00:00.000Z\".replace('Z', '+00:00')),\n",
        "    \"updated_at\": datetime.fromisoformat(\"2025-07-03T00:00:00.000Z\".replace('Z', '+00:00'))\n",
        "}\n",
        "\n",
        "print(\"✅ Datos del usuario administrador preparados:\")\n",
        "print(f\"Username: {admin_user_data['username']}\")\n",
        "print(f\"Email: {admin_user_data['email']}\")\n",
        "print(f\"Role: {admin_user_data['role']}\")\n",
        "print(f\"Store ID: {admin_user_data['store_id']}\")\n",
        "print(f\"Password: {plain_password}\")\n",
        "print(f\"Is Active: {admin_user_data['is_active']}\")\n",
        "print(f\"Password Hash: {password_hash[:30]}...\")\n",
        "print(\"\\n⚠️  IMPORTANTE: Guarda esta contraseña en un lugar seguro: AdminPurimatic2024\")\n",
        "print(\"✅ Hash generado usando bcrypt (igual que la aplicación)\")\n"
      ]
    },
    {
      "cell_type": "code",
      "execution_count": 15,
      "metadata": {},
      "outputs": [
        {
          "name": "stdout",
          "output_type": "stream",
          "text": [
            "✅ Usuario administrador creado exitosamente con ID: 6866ced114f19bf5e0dd6bf5\n"
          ]
        }
      ],
      "source": [
        "# Crear el usuario administrador\n",
        "try:\n",
        "    # Usar upsert para insertar o actualizar\n",
        "    result = user_employees_collection.replace_one(\n",
        "        {\"_id\": admin_user_data[\"_id\"]},\n",
        "        admin_user_data,\n",
        "        upsert=True\n",
        "    )\n",
        "    \n",
        "    if result.upserted_id:\n",
        "        print(f\"✅ Usuario administrador creado exitosamente con ID: {result.upserted_id}\")\n",
        "    elif result.modified_count > 0:\n",
        "        print(f\"✅ Usuario administrador actualizado exitosamente\")\n",
        "    else:\n",
        "        print(\"ℹ️  No se realizaron cambios (el usuario ya existía con los mismos datos)\")\n",
        "    \n",
        "except Exception as e:\n",
        "    print(f\"❌ Error al crear el usuario administrador: {e}\")\n"
      ]
    },
    {
      "cell_type": "code",
      "execution_count": 16,
      "metadata": {},
      "outputs": [
        {
          "name": "stdout",
          "output_type": "stream",
          "text": [
            "✅ Usuario administrador verificado exitosamente:\n",
            "ID: 6866ced114f19bf5e0dd6bf5\n",
            "Username: admin\n",
            "Email: admin@purimatic.com\n",
            "Role: admin\n",
            "Store ID: store_001\n",
            "Is Active: True\n",
            "Created At: 2025-07-03 00:00:00\n",
            "Updated At: 2025-07-03 00:00:00\n",
            "Password Hash: $2b$12$BnNwJzy9QqgMg...\n",
            "\n",
            "🎉 ¡Usuario administrador listo para usar!\n",
            "📋 Credenciales para login:\n",
            "   Username: admin\n",
            "   Password: AdminPurimatic2024\n"
          ]
        }
      ],
      "source": [
        "# Verificar que el usuario se creó correctamente\n",
        "try:\n",
        "    created_user = user_employees_collection.find_one({\"username\": \"admin\"})\n",
        "    \n",
        "    if created_user:\n",
        "        print(\"✅ Usuario administrador verificado exitosamente:\")\n",
        "        print(f\"ID: {created_user['_id']}\")\n",
        "        print(f\"Username: {created_user['username']}\")\n",
        "        print(f\"Email: {created_user['email']}\")\n",
        "        print(f\"Role: {created_user['role']}\")\n",
        "        print(f\"Store ID: {created_user['store_id']}\")\n",
        "        print(f\"Is Active: {created_user['is_active']}\")\n",
        "        print(f\"Created At: {created_user['created_at']}\")\n",
        "        print(f\"Updated At: {created_user['updated_at']}\")\n",
        "        print(f\"Password Hash: {created_user['password_hash'][:20]}...\")\n",
        "        \n",
        "        print(\"\\n🎉 ¡Usuario administrador listo para usar!\")\n",
        "        print(\"📋 Credenciales para login:\")\n",
        "        print(f\"   Username: {created_user['username']}\")\n",
        "        print(f\"   Password: {plain_password}\")\n",
        "        \n",
        "    else:\n",
        "        print(\"❌ Error: No se pudo verificar el usuario creado\")\n",
        "        \n",
        "except Exception as e:\n",
        "    print(f\"❌ Error al verificar el usuario: {e}\")\n"
      ]
    },
    {
      "cell_type": "code",
      "execution_count": 17,
      "metadata": {},
      "outputs": [
        {
          "name": "stdout",
          "output_type": "stream",
          "text": [
            "✅ Verificación de contraseña exitosa\n",
            "✅ El hash es compatible con la aplicación\n",
            "\n",
            "📊 Estadísticas de la base de datos:\n",
            "   user_employees: 1 documentos\n",
            "   user_clients: 0 documentos\n",
            "   products: 0 documentos\n",
            "   washers: 0 documentos\n",
            "   dryers: 0 documentos\n",
            "   stores: 0 documentos\n"
          ]
        }
      ],
      "source": [
        "# Verificar que el hash funciona correctamente\n",
        "def verify_password(password: str, password_hash: str) -> bool:\n",
        "    \"\"\"\n",
        "    Verificar contraseña contra su hash (igual que en auth_utils.py)\n",
        "    \"\"\"\n",
        "    return bcrypt.checkpw(password.encode('utf-8'), password_hash.encode('utf-8'))\n",
        "\n",
        "# Probar la verificación de contraseña con el hash generado\n",
        "try:\n",
        "    test_result = verify_password(plain_password, password_hash)\n",
        "    if test_result:\n",
        "        print(\"✅ Verificación de contraseña exitosa\")\n",
        "        print(\"✅ El hash es compatible con la aplicación\")\n",
        "    else:\n",
        "        print(\"❌ Error en la verificación de contraseña\")\n",
        "except Exception as e:\n",
        "    print(f\"❌ Error al verificar contraseña: {e}\")\n",
        "\n",
        "# Información adicional sobre la base de datos\n",
        "try:\n",
        "    # Contar documentos en las colecciones principales\n",
        "    stats = {\n",
        "        \"user_employees\": user_employees_collection.count_documents({}),\n",
        "        \"user_clients\": db.user_clients.count_documents({}) if \"user_clients\" in collections else 0,\n",
        "        \"products\": db.products.count_documents({}) if \"products\" in collections else 0,\n",
        "        \"washers\": db.washers.count_documents({}) if \"washers\" in collections else 0,\n",
        "        \"dryers\": db.dryers.count_documents({}) if \"dryers\" in collections else 0,\n",
        "        \"stores\": db.stores.count_documents({}) if \"stores\" in collections else 0\n",
        "    }\n",
        "    \n",
        "    print(\"\\n📊 Estadísticas de la base de datos:\")\n",
        "    for collection, count in stats.items():\n",
        "        print(f\"   {collection}: {count} documentos\")\n",
        "    \n",
        "    # Verificar si existe la tienda store_001\n",
        "    if \"stores\" in collections:\n",
        "        store_001 = db.stores.find_one({\"_id\": \"store_001\"})\n",
        "        if store_001:\n",
        "            print(f\"\\n✅ Tienda store_001 encontrada: {store_001.get('nombre', 'Sin nombre')}\")\n",
        "        else:\n",
        "            print(\"\\n⚠️  Tienda store_001 no encontrada. Podrías necesitar crear los datos de la tienda.\")\n",
        "            \n",
        "except Exception as e:\n",
        "    print(f\"❌ Error al obtener estadísticas: {e}\")\n"
      ]
    },
    {
      "cell_type": "code",
      "execution_count": 18,
      "metadata": {},
      "outputs": [
        {
          "name": "stdout",
          "output_type": "stream",
          "text": [
            "✅ Conexión a MongoDB cerrada\n",
            "\n",
            "🎯 Resumen:\n",
            "   - Usuario administrador creado/actualizado\n",
            "   - Credenciales listas para usar\n",
            "   - Base de datos verificada\n",
            "\n",
            "🚀 ¡Ahora puedes hacer login en tu aplicación con:\n",
            "   Username: admin\n",
            "   Password: AdminPurimatic2024\n"
          ]
        }
      ],
      "source": [
        "# Cerrar la conexión\n",
        "client.close()\n",
        "print(\"✅ Conexión a MongoDB cerrada\")\n",
        "print(\"\\n🎯 Resumen:\")\n",
        "print(\"   - Usuario administrador creado/actualizado\")\n",
        "print(\"   - Credenciales listas para usar\")\n",
        "print(\"   - Base de datos verificada\")\n",
        "print(\"\\n🚀 ¡Ahora puedes hacer login en tu aplicación con:\")\n",
        "print(\"   Username: admin\")\n",
        "print(\"   Password: AdminPurimatic2024\")\n"
      ]
    },
    {
      "cell_type": "raw",
      "metadata": {
        "vscode": {
          "languageId": "raw"
        }
      },
      "source": [
        "## 📝 Notas Importantes\n",
        "\n",
        "### ✅ Usuario Administrador Creado\n",
        "- **Username:** `admin`\n",
        "- **Password:** `AdminPurimatic2024`\n",
        "- **Email:** `admin@purimatic.com`\n",
        "- **Role:** `admin`\n",
        "- **Store ID:** `store_001`\n",
        "\n",
        "### 🔐 Verificación del Hash\n",
        "El hash se genera usando **bcrypt** con los mismos parámetros que tu aplicación Flask:\n",
        "- Usa `bcrypt.gensalt()` para generar salt automáticamente\n",
        "- Compatible 100% con la función `hash_password` de `auth_utils.py`\n",
        "- Verificado con la función `verify_password` incluida en este notebook\n",
        "\n",
        "### 🚀 Próximos Pasos\n",
        "1. **Probar el login**: Usa las credenciales arriba para hacer login en tu API\n",
        "2. **Endpoint de login**: `POST /auth/login`\n",
        "3. **Body del request**:\n",
        "   ```json\n",
        "   {\n",
        "     \"username\": \"admin\",\n",
        "     \"password\": \"AdminPurimatic2024\"\n",
        "   }\n",
        "   ```\n",
        "4. **Cambiar contraseña**: Una vez que hagas login, considera cambiar la contraseña por una más segura\n",
        "5. **Verificar tienda**: Asegúrate de que la tienda `store_001` existe en tu base de datos\n",
        "\n",
        "### 🛠️ Solución de Problemas\n",
        "- Si el login falla, verifica que el `password_hash` esté correcto\n",
        "- Asegúrate de que la aplicación esté usando la misma base de datos\n",
        "- Revisa que las variables de entorno estén configuradas correctamente\n",
        "- El hash generado es único cada vez (por el salt aleatorio), pero siempre funciona\n",
        "\n",
        "### 🔒 Seguridad\n",
        "- **¡IMPORTANTE!** Cambia la contraseña predeterminada después del primer login\n",
        "- No compartas estas credenciales\n",
        "- Usa conexiones seguras (HTTPS) en producción\n",
        "- El hash bcrypt es seguro y resistente a ataques de fuerza bruta\n"
      ]
    },
    {
      "cell_type": "code",
      "execution_count": 19,
      "metadata": {},
      "outputs": [
        {
          "name": "stdout",
          "output_type": "stream",
          "text": [
            "🧪 Demostración de las funciones de hash:\n",
            "=====================================\n",
            "Contraseña: AdminPurimatic2024\n",
            "Hash 1: $2b$12$mrz4fXpOi/ybo3dng0wqf.3DkMJQp1BvhQh3VSZ3crfS189bxtZe.\n",
            "Hash 2: $2b$12$h4ev547bBiog4HP.4MOfH.7NMgSOVCoWuhnjc5O5xHldEFR0uDu/y\n",
            "¿Son iguales? False\n",
            "\n",
            "🔍 Verificando ambos hashes:\n",
            "Hash 1 verifica correctamente: True\n",
            "Hash 2 verifica correctamente: True\n",
            "\n",
            "✨ Conclusión:\n",
            "- Cada hash es único (por el salt aleatorio)\n",
            "- Pero ambos verifican correctamente la misma contraseña\n",
            "- Esto es normal y seguro con bcrypt\n",
            "- Tu aplicación funcionará correctamente con cualquier hash generado\n"
          ]
        }
      ],
      "source": [
        "# 🧪 Demostración de las funciones de hash (opcional)\n",
        "print(\"🧪 Demostración de las funciones de hash:\")\n",
        "print(\"=====================================\")\n",
        "\n",
        "# Generar diferentes hashes para la misma contraseña\n",
        "password_test = \"AdminPurimatic2024\"\n",
        "hash1 = hash_password(password_test)\n",
        "hash2 = hash_password(password_test)\n",
        "\n",
        "print(f\"Contraseña: {password_test}\")\n",
        "print(f\"Hash 1: {hash1}\")\n",
        "print(f\"Hash 2: {hash2}\")\n",
        "print(f\"¿Son iguales? {hash1 == hash2}\")\n",
        "\n",
        "print(\"\\n🔍 Verificando ambos hashes:\")\n",
        "print(f\"Hash 1 verifica correctamente: {verify_password(password_test, hash1)}\")\n",
        "print(f\"Hash 2 verifica correctamente: {verify_password(password_test, hash2)}\")\n",
        "\n",
        "print(\"\\n✨ Conclusión:\")\n",
        "print(\"- Cada hash es único (por el salt aleatorio)\")\n",
        "print(\"- Pero ambos verifican correctamente la misma contraseña\")\n",
        "print(\"- Esto es normal y seguro con bcrypt\")\n",
        "print(\"- Tu aplicación funcionará correctamente con cualquier hash generado\")\n"
      ]
    }
  ],
  "metadata": {
    "kernelspec": {
      "display_name": "venv",
      "language": "python",
      "name": "python3"
    },
    "language_info": {
      "codemirror_mode": {
        "name": "ipython",
        "version": 3
      },
      "file_extension": ".py",
      "mimetype": "text/x-python",
      "name": "python",
      "nbconvert_exporter": "python",
      "pygments_lexer": "ipython3",
      "version": "3.11.1"
    }
  },
  "nbformat": 4,
  "nbformat_minor": 2
}
